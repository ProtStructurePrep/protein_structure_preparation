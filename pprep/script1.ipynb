{
 "cells": [
  {
   "cell_type": "code",
   "execution_count": 3,
   "id": "b5c69b37",
   "metadata": {},
   "outputs": [],
   "source": [
    "import pdbfixer"
   ]
  },
  {
   "cell_type": "code",
   "execution_count": 36,
   "id": "3acc02e3",
   "metadata": {},
   "outputs": [],
   "source": [
    "fixer = pdbfixer.PDBFixer(filename='1J4R.pdb')"
   ]
  },
  {
   "cell_type": "code",
   "execution_count": 7,
   "id": "519b1039",
   "metadata": {},
   "outputs": [],
   "source": [
    "fixer.removeChains([1,2])"
   ]
  },
  {
   "cell_type": "code",
   "execution_count": 8,
   "id": "2f289c32",
   "metadata": {},
   "outputs": [],
   "source": [
    "fixer.findMissingResidues()"
   ]
  },
  {
   "cell_type": "code",
   "execution_count": 31,
   "id": "7b053bd6",
   "metadata": {},
   "outputs": [],
   "source": [
    "def remove_chains_and_verify(pdbid, expected_chain_ids_remaining, kws):\n",
    "    # Create a PDBFixer instance for the given pdbid\n",
    "    fixer = pdbfixer.PDBFixer(pdbid)\n",
    "    # Remove specified chains.\n",
    "    fixer.removeChains(**kws)\n",
    "    # Check to make sure asserted chains remain.\n",
    "    chain_ids_remaining = [c.id for c in fixer.topology.chains()]\n",
    "    assert expected_chain_ids_remaining == chain_ids_remaining"
   ]
  },
  {
   "cell_type": "code",
   "execution_count": 32,
   "id": "9a14a030",
   "metadata": {},
   "outputs": [
    {
     "ename": "TypeError",
     "evalue": "pdbfixer.pdbfixer.PDBFixer.removeChains() argument after ** must be a mapping, not int",
     "output_type": "error",
     "traceback": [
      "\u001b[0;31m---------------------------------------------------------------------------\u001b[0m",
      "\u001b[0;31mTypeError\u001b[0m                                 Traceback (most recent call last)",
      "Cell \u001b[0;32mIn[32], line 1\u001b[0m\n\u001b[0;32m----> 1\u001b[0m \u001b[43mremove_chains_and_verify\u001b[49m\u001b[43m(\u001b[49m\u001b[38;5;124;43m'\u001b[39;49m\u001b[38;5;124;43m1J4R.pdb\u001b[39;49m\u001b[38;5;124;43m'\u001b[39;49m\u001b[43m,\u001b[49m\u001b[38;5;241;43m1\u001b[39;49m\u001b[43m,\u001b[49m\u001b[38;5;241;43m7\u001b[39;49m\u001b[43m)\u001b[49m\n",
      "Cell \u001b[0;32mIn[31], line 5\u001b[0m, in \u001b[0;36mremove_chains_and_verify\u001b[0;34m(pdbid, expected_chain_ids_remaining, kws)\u001b[0m\n\u001b[1;32m      3\u001b[0m fixer \u001b[38;5;241m=\u001b[39m pdbfixer\u001b[38;5;241m.\u001b[39mPDBFixer(pdbid)\n\u001b[1;32m      4\u001b[0m \u001b[38;5;66;03m# Remove specified chains.\u001b[39;00m\n\u001b[0;32m----> 5\u001b[0m fixer\u001b[38;5;241m.\u001b[39mremoveChains(\u001b[38;5;241m*\u001b[39m\u001b[38;5;241m*\u001b[39mkws)\n\u001b[1;32m      6\u001b[0m \u001b[38;5;66;03m# Check to make sure asserted chains remain.\u001b[39;00m\n\u001b[1;32m      7\u001b[0m chain_ids_remaining \u001b[38;5;241m=\u001b[39m [c\u001b[38;5;241m.\u001b[39mid \u001b[38;5;28;01mfor\u001b[39;00m c \u001b[38;5;129;01min\u001b[39;00m fixer\u001b[38;5;241m.\u001b[39mtopology\u001b[38;5;241m.\u001b[39mchains()]\n",
      "\u001b[0;31mTypeError\u001b[0m: pdbfixer.pdbfixer.PDBFixer.removeChains() argument after ** must be a mapping, not int"
     ]
    }
   ],
   "source": [
    "remove_chains_and_verify('1J4R.pdb',1,7)"
   ]
  },
  {
   "cell_type": "code",
   "execution_count": 34,
   "id": "748a2336",
   "metadata": {},
   "outputs": [],
   "source": []
  },
  {
   "cell_type": "code",
   "execution_count": 37,
   "id": "8cc37fd6",
   "metadata": {},
   "outputs": [
    {
     "name": "stdout",
     "output_type": "stream",
     "text": [
      "A\n",
      "B\n",
      "D\n",
      "A\n",
      "B\n",
      "D\n",
      "A\n",
      "B\n",
      "D\n"
     ]
    }
   ],
   "source": [
    "for c in fixer.topology.chains():\n",
    "    print(c.id)"
   ]
  },
  {
   "cell_type": "code",
   "execution_count": 38,
   "id": "4e6c46c1",
   "metadata": {},
   "outputs": [],
   "source": [
    "fixer.removeChains([1,2])"
   ]
  },
  {
   "cell_type": "code",
   "execution_count": 39,
   "id": "19f06b82",
   "metadata": {},
   "outputs": [
    {
     "name": "stdout",
     "output_type": "stream",
     "text": [
      "A\n",
      "A\n",
      "B\n",
      "D\n",
      "A\n",
      "B\n",
      "D\n"
     ]
    }
   ],
   "source": [
    "for c in fixer.topology.chains():\n",
    "    print(c.id)"
   ]
  },
  {
   "cell_type": "markdown",
   "id": "a872fe64",
   "metadata": {},
   "source": [
    "https://github.com/openmm/pdbfixer/blob/master/pdbfixer/tests/test_removechains.py\n",
    "https://htmlpreview.github.io/?https://github.com/openmm/pdbfixer/blob/master/Manual.html"
   ]
  },
  {
   "cell_type": "code",
   "execution_count": 40,
   "id": "128c3d0a",
   "metadata": {},
   "outputs": [],
   "source": [
    "def test_removed_chains(pdbid, expected_chain_ids_remaining, idx_chains_to_remove):\n",
    "    fixer = pdbfixer.PDBFixer(pdbid)\n",
    "    fixer.removeChains(idx_chains_to_remove)\n",
    "    # Check to make sure asserted chains remain.\n",
    "    chain_ids_remaining = [c.id for c in fixer.topology.chains()]\n",
    "    assert expected_chain_ids_remaining == chain_ids_remaining"
   ]
  },
  {
   "cell_type": "code",
   "execution_count": 46,
   "id": "907742a1",
   "metadata": {},
   "outputs": [],
   "source": [
    "test_removed_chains('1J4R.pdb',['A','A','B','D','A','B','D'],[1,2])"
   ]
  },
  {
   "cell_type": "code",
   "execution_count": null,
   "id": "fe94b127",
   "metadata": {},
   "outputs": [],
   "source": []
  }
 ],
 "metadata": {
  "kernelspec": {
   "display_name": "Python 3 (ipykernel)",
   "language": "python",
   "name": "python3"
  },
  "language_info": {
   "codemirror_mode": {
    "name": "ipython",
    "version": 3
   },
   "file_extension": ".py",
   "mimetype": "text/x-python",
   "name": "python",
   "nbconvert_exporter": "python",
   "pygments_lexer": "ipython3",
   "version": "3.9.15"
  }
 },
 "nbformat": 4,
 "nbformat_minor": 5
}
