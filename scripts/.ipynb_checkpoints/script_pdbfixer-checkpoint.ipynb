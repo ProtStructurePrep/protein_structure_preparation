{
 "cells": [
  {
   "cell_type": "code",
   "execution_count": 1,
   "id": "bd80e414",
   "metadata": {},
   "outputs": [],
   "source": [
    "import pdbfixer"
   ]
  },
  {
   "cell_type": "code",
   "execution_count": 7,
   "id": "eb50b734",
   "metadata": {},
   "outputs": [],
   "source": [
    "def remove_chains_and_verify(pdbid, expected_chain_ids_remaining, idx_chains_to_remove):\n",
    "    # Create a PDBFixer instance for the given pdbid\n",
    "    fixer = pdbfixer.PDBFixer(pdbid + '.pdb')\n",
    "    # Remove specified chains\n",
    "    fixer.removeChains(idx_chains_to_remove)\n",
    "    # Check to make sure asserted chains remain\n",
    "    chain_ids_remaining = [c.id for c in fixer.topology.chains()]\n",
    "    assert expected_chain_ids_remaining == chain_ids_remaining"
   ]
  },
  {
   "cell_type": "code",
   "execution_count": 8,
   "id": "cbec062f",
   "metadata": {},
   "outputs": [
    {
     "name": "stdout",
     "output_type": "stream",
     "text": [
      "A\n",
      "B\n",
      "D\n",
      "A\n",
      "B\n",
      "D\n",
      "A\n",
      "B\n",
      "D\n"
     ]
    }
   ],
   "source": [
    "fixer = pdbfixer.PDBFixer('1J4R.pdb')\n",
    "for c in fixer.topology.chains():\n",
    "    print(c.id)"
   ]
  },
  {
   "cell_type": "code",
   "execution_count": 12,
   "id": "26f50c34",
   "metadata": {},
   "outputs": [],
   "source": [
    "remove_chains_and_verify('1J4R', ['A'],[1,2,3,4,5,6,7,8])"
   ]
  },
  {
   "cell_type": "code",
   "execution_count": 14,
   "id": "81a1be96",
   "metadata": {},
   "outputs": [
    {
     "name": "stdout",
     "output_type": "stream",
     "text": [
      "['A', 'B', 'D', 'A', 'B', 'D', 'A', 'B', 'D']\n"
     ]
    }
   ],
   "source": [
    "def chains_id(pdbid):\n",
    "    l = []\n",
    "    fixer = pdbfixer.PDBFixer(pdbid + '.pdb')\n",
    "    for c in fixer.topology.chains():\n",
    "        l.append(c.id)\n",
    "    return(l)\n",
    "# print(chains_id('1J4R'))"
   ]
  },
  {
   "cell_type": "code",
   "execution_count": null,
   "id": "7f1ef462",
   "metadata": {},
   "outputs": [],
   "source": [
    "fixer.removeChains(idx_chains_to_remove)"
   ]
  },
  {
   "cell_type": "code",
   "execution_count": 15,
   "id": "d021dc55",
   "metadata": {},
   "outputs": [],
   "source": [
    "fixer.findMissingResidues()"
   ]
  },
  {
   "cell_type": "code",
   "execution_count": 16,
   "id": "85699669",
   "metadata": {},
   "outputs": [
    {
     "data": {
      "text/plain": [
       "{}"
      ]
     },
     "execution_count": 16,
     "metadata": {},
     "output_type": "execute_result"
    }
   ],
   "source": [
    "fixer.missingResidues"
   ]
  },
  {
   "cell_type": "code",
   "execution_count": 23,
   "id": "4f8440bc",
   "metadata": {},
   "outputs": [],
   "source": [
    "from pdbfixer import PDBFixer\n",
    "from openmm.app import PDBFile\n",
    "\n",
    "def quick_fix(pdbid):\n",
    "    fixer = PDBFixer(filename=pdbid + '.pdb')\n",
    "    fixer.findMissingResidues()\n",
    "    fixer.findNonstandardResidues()\n",
    "    fixer.replaceNonstandardResidues()\n",
    "    fixer.removeHeterogens(True)\n",
    "    fixer.findMissingAtoms()\n",
    "    fixer.addMissingAtoms()\n",
    "    fixer.addMissingHydrogens(7.0)\n",
    "    fixer.addSolvent(fixer.topology.getUnitCellDimensions())\n",
    "    PDBFile.writeFile(fixer.topology, fixer.positions, open('output.pdb', 'w'))\n",
    "    return fixer"
   ]
  },
  {
   "cell_type": "code",
   "execution_count": 24,
   "id": "18a6ebd9",
   "metadata": {},
   "outputs": [
    {
     "data": {
      "text/plain": [
       "<pdbfixer.pdbfixer.PDBFixer at 0x7fb440db3b80>"
      ]
     },
     "execution_count": 24,
     "metadata": {},
     "output_type": "execute_result"
    }
   ],
   "source": [
    "pdbid = '1J4R'\n",
    "\n",
    "quick_fix(pdbid)"
   ]
  },
  {
   "cell_type": "code",
   "execution_count": null,
   "id": "53678efb",
   "metadata": {},
   "outputs": [],
   "source": []
  }
 ],
 "metadata": {
  "kernelspec": {
   "display_name": "Python 3 (ipykernel)",
   "language": "python",
   "name": "python3"
  },
  "language_info": {
   "codemirror_mode": {
    "name": "ipython",
    "version": 3
   },
   "file_extension": ".py",
   "mimetype": "text/x-python",
   "name": "python",
   "nbconvert_exporter": "python",
   "pygments_lexer": "ipython3",
   "version": "3.9.15"
  }
 },
 "nbformat": 4,
 "nbformat_minor": 5
}
