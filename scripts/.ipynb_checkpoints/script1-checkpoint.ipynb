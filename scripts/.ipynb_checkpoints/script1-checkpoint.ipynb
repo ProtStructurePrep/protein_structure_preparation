{
 "cells": [
  {
   "cell_type": "code",
   "execution_count": 1,
   "id": "60e4fbfa",
   "metadata": {},
   "outputs": [],
   "source": [
    "%load_ext autoreload\n",
    "%autoreload 2"
   ]
  },
  {
   "cell_type": "code",
   "execution_count": 7,
   "id": "e07f0113",
   "metadata": {},
   "outputs": [
    {
     "data": {
      "application/vnd.jupyter.widget-view+json": {
       "model_id": "0b21c94bf49446928415bcdbbf036678",
       "version_major": 2,
       "version_minor": 0
      },
      "text/plain": []
     },
     "metadata": {},
     "output_type": "display_data"
    }
   ],
   "source": [
    "import mdtraj as md\n",
    "import ipywidgets\n",
    "import nglview"
   ]
  },
  {
   "cell_type": "code",
   "execution_count": 10,
   "id": "aed86c33",
   "metadata": {},
   "outputs": [],
   "source": [
    "pdb = md.load_pdb('http://www.rcsb.org/pdb/files/1J4R.pdb')"
   ]
  },
  {
   "cell_type": "code",
   "execution_count": 8,
   "id": "f698c94d",
   "metadata": {},
   "outputs": [],
   "source": [
    "def load_pdb(pdb_name):\n",
    "    link = 'http://www.rcsb.org/pdb/files/' + pdb_name + '.pdb'\n",
    "    pdb = md.load_pdb(link)\n",
    "    return(pdb)"
   ]
  },
  {
   "cell_type": "code",
   "execution_count": 10,
   "id": "3801e85e",
   "metadata": {},
   "outputs": [],
   "source": [
    "pdb = load_pdb('1J4R')"
   ]
  },
  {
   "cell_type": "code",
   "execution_count": 11,
   "id": "7ca6746f",
   "metadata": {},
   "outputs": [
    {
     "data": {
      "application/vnd.jupyter.widget-view+json": {
       "model_id": "ff82d6730b2445b9ab5d3817ce4deefe",
       "version_major": 2,
       "version_minor": 0
      },
      "text/plain": [
       "NGLWidget()"
      ]
     },
     "metadata": {},
     "output_type": "display_data"
    }
   ],
   "source": [
    "nglview.show_mdtraj(pdb)"
   ]
  },
  {
   "cell_type": "code",
   "execution_count": 5,
   "id": "408760ec",
   "metadata": {},
   "outputs": [
    {
     "data": {
      "text/plain": [
       "<mdtraj.Topology with 9 chains, 475 residues, 2795 atoms, 2710 bonds at 0x7f629f23de20>"
      ]
     },
     "execution_count": 5,
     "metadata": {},
     "output_type": "execute_result"
    }
   ],
   "source": [
    "pdb.top"
   ]
  },
  {
   "cell_type": "markdown",
   "id": "3db058a8",
   "metadata": {},
   "source": [
    "### Pipeline"
   ]
  },
  {
   "cell_type": "markdown",
   "id": "10d690e2",
   "metadata": {},
   "source": [
    "#### 1. Select ligands of interest"
   ]
  },
  {
   "cell_type": "code",
   "execution_count": 6,
   "id": "9a57758c",
   "metadata": {},
   "outputs": [],
   "source": [
    "from pprep import *"
   ]
  },
  {
   "cell_type": "code",
   "execution_count": 7,
   "id": "ffb24d9f",
   "metadata": {},
   "outputs": [
    {
     "ename": "NameError",
     "evalue": "name 'utils' is not defined",
     "output_type": "error",
     "traceback": [
      "\u001b[0;31m---------------------------------------------------------------------------\u001b[0m",
      "\u001b[0;31mNameError\u001b[0m                                 Traceback (most recent call last)",
      "Cell \u001b[0;32mIn[7], line 7\u001b[0m\n\u001b[1;32m      1\u001b[0m \u001b[38;5;124;03m'''\u001b[39;00m\n\u001b[1;32m      2\u001b[0m \u001b[38;5;124;03mcreate the 'common_ligands' list \u001b[39;00m\n\u001b[1;32m      3\u001b[0m \u001b[38;5;124;03m'''\u001b[39;00m\n\u001b[1;32m      5\u001b[0m data \u001b[38;5;241m=\u001b[39m \u001b[38;5;28mopen\u001b[39m(\u001b[38;5;124m\"\u001b[39m\u001b[38;5;124m/home/eva/tfg/data/cc-to-pdb.tdd\u001b[39m\u001b[38;5;124m\"\u001b[39m,\u001b[38;5;124m\"\u001b[39m\u001b[38;5;124mr\u001b[39m\u001b[38;5;124m\"\u001b[39m)\n\u001b[0;32m----> 7\u001b[0m \u001b[38;5;28mlen\u001b[39m(\u001b[43mutils\u001b[49m\u001b[38;5;241m.\u001b[39mcommon_ligands(data))\n",
      "\u001b[0;31mNameError\u001b[0m: name 'utils' is not defined"
     ]
    }
   ],
   "source": [
    "'''\n",
    "create the 'common_ligands' list \n",
    "'''\n",
    "\n",
    "data = open(\"/home/eva/tfg/data/cc-to-pdb.tdd\",\"r\")\n",
    "\n",
    "len(utils.common_ligands(data))"
   ]
  },
  {
   "cell_type": "code",
   "execution_count": 8,
   "id": "a0f1e80c",
   "metadata": {},
   "outputs": [
    {
     "ename": "NameError",
     "evalue": "name 'utils' is not defined",
     "output_type": "error",
     "traceback": [
      "\u001b[0;31m---------------------------------------------------------------------------\u001b[0m",
      "\u001b[0;31mNameError\u001b[0m                                 Traceback (most recent call last)",
      "Cell \u001b[0;32mIn[8], line 5\u001b[0m\n\u001b[1;32m      1\u001b[0m \u001b[38;5;124;03m'''\u001b[39;00m\n\u001b[1;32m      2\u001b[0m \u001b[38;5;124;03mget the ligands of the protein (ignoring the ligands found in the 'common_ligands' list)\u001b[39;00m\n\u001b[1;32m      3\u001b[0m \u001b[38;5;124;03m'''\u001b[39;00m\n\u001b[0;32m----> 5\u001b[0m \u001b[43mutils\u001b[49m\u001b[38;5;241m.\u001b[39mget_ligands(pdb)\n",
      "\u001b[0;31mNameError\u001b[0m: name 'utils' is not defined"
     ]
    }
   ],
   "source": [
    "'''\n",
    "get the ligands of the protein (ignoring the ligands found in the 'common_ligands' list)\n",
    "'''\n",
    "\n",
    "utils.get_ligands(pdb)"
   ]
  },
  {
   "cell_type": "code",
   "execution_count": null,
   "id": "68f246c2",
   "metadata": {},
   "outputs": [],
   "source": [
    "from pprep import *\n",
    "\n",
    "PDB_NAME = '1J4R'\n",
    "\n",
    "def test_get_ligands():\n",
    "    pdb = read_pdb(PDB_FILE)\n",
    "    assert len(get_ligands(pdb)) == 3\n",
    "\n",
    "def test_read_pdb():\n",
    "    pdb = load_pdb(PDB_NAME)\n",
    "    assert pdb.n_atoms == 2795\n",
    "\n",
    "\n",
    "def main():\n",
    "    test_read_pdb()\n",
    "    test_get_ligands()\n",
    "        \n",
    "\n",
    "if __name__ == '__main__':\n",
    "    main()"
   ]
  },
  {
   "cell_type": "markdown",
   "id": "5ab41383",
   "metadata": {},
   "source": [
    "https://github.com/openmm/pdbfixer/blob/master/pdbfixer/pdbfixer.py"
   ]
  },
  {
   "cell_type": "code",
   "execution_count": null,
   "id": "d06b3844",
   "metadata": {},
   "outputs": [],
   "source": []
  }
 ],
 "metadata": {
  "kernelspec": {
   "display_name": "Python 3 (ipykernel)",
   "language": "python",
   "name": "python3"
  },
  "language_info": {
   "codemirror_mode": {
    "name": "ipython",
    "version": 3
   },
   "file_extension": ".py",
   "mimetype": "text/x-python",
   "name": "python",
   "nbconvert_exporter": "python",
   "pygments_lexer": "ipython3",
   "version": "3.9.15"
  }
 },
 "nbformat": 4,
 "nbformat_minor": 5
}
