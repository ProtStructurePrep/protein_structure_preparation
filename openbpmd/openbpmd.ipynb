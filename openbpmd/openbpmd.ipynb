{
 "cells": [
  {
   "cell_type": "code",
   "execution_count": null,
   "metadata": {},
   "outputs": [],
   "source": [
    "%load_ext autoreload\n",
    "%autoreload 2"
   ]
  },
  {
   "cell_type": "code",
   "execution_count": null,
   "metadata": {},
   "outputs": [],
   "source": [
    "import pprep.utils_rdkit as urk\n",
    "import pprep.MDutils as umd"
   ]
  },
  {
   "cell_type": "code",
   "execution_count": null,
   "metadata": {},
   "outputs": [],
   "source": [
    "# OpenMM\n",
    "from simtk.openmm.app import Modeller, PDBFile, Simulation\n",
    "from simtk.openmm import Platform, LangevinIntegrator, app, HarmonicBondForce, NonbondedForce\n",
    "from simtk import unit, openmm\n",
    "from openmmforcefields.generators import SystemGenerator\n",
    "from openmm.app.metadynamics import BiasVariable, Metadynamics\n",
    "\n",
    "# Others\n",
    "import os\n",
    "import MDAnalysis as mda\n",
    "import mdtraj as md"
   ]
  },
  {
   "cell_type": "markdown",
   "metadata": {},
   "source": [
    "## Check whether we have a GPU platform and if so set the precision to mixed\n"
   ]
  },
  {
   "cell_type": "code",
   "execution_count": null,
   "metadata": {},
   "outputs": [],
   "source": [
    "speed = 0\n",
    "for i in range(Platform.getNumPlatforms()):\n",
    "    p = Platform.getPlatform(i)\n",
    "    # print(p.getName(), p.getSpeed())\n",
    "    if p.getSpeed() > speed:\n",
    "        platform = p\n",
    "        speed = p.getSpeed()\n",
    "\n",
    "if platform.getName() == 'CUDA' or platform.getName() == 'OpenCL':\n",
    "    platform.setPropertyDefaultValue('Precision', 'mixed')\n",
    "    print('Set precision for platform', platform.getName(), 'to mixed')"
   ]
  },
  {
   "cell_type": "markdown",
   "metadata": {},
   "source": [
    "## Load ligand and receptor"
   ]
  },
  {
   "cell_type": "code",
   "execution_count": null,
   "metadata": {},
   "outputs": [],
   "source": [
    "\"\"\"RDKit prepared ligand --> OpenMM ligand\"\"\"\n",
    "pdb_file = 'ligand.pdb'\n",
    "resname = '03P'\n",
    "smiles = 'O=C(CC(O)(C)C)NCCn1ccc2c1c(ncn2)Nc1ccc(c(c1)Cl)Oc1cccc(c1)C(F)(F)F'\n",
    "rdkit_ligand = urk.prepare_ligand(pdb_file, resname, smiles)\n",
    "\n",
    "ligand = umd.load_prepared_ligand(rdkit_ligand)"
   ]
  },
  {
   "cell_type": "code",
   "execution_count": null,
   "metadata": {},
   "outputs": [],
   "source": [
    "\"\"\"OpenMM receptor\"\"\"\n",
    "receptor = umd.load_prepared_receptor('prepared_receptor.pdb')"
   ]
  },
  {
   "cell_type": "markdown",
   "metadata": {},
   "source": [
    "## Create modeller"
   ]
  },
  {
   "cell_type": "code",
   "execution_count": null,
   "metadata": {},
   "outputs": [],
   "source": [
    "modeller = Modeller(receptor.topology, receptor.positions)\n",
    "modeller.add(ligand.to_topology().to_openmm(), ligand.conformers[0])"
   ]
  },
  {
   "cell_type": "markdown",
   "metadata": {},
   "source": [
    "## Add solvent"
   ]
  },
  {
   "cell_type": "code",
   "execution_count": null,
   "metadata": {},
   "outputs": [],
   "source": [
    "forcefield_kwargs = {'constraints': app.HBonds, 'rigidWater': True, 'removeCMMotion': False, 'hydrogenMass': 4*unit.amu }\n",
    "system_generator = SystemGenerator(\n",
    "    forcefields=['amber/ff14SB.xml', 'amber/tip3p_standard.xml'],\n",
    "    small_molecule_forcefield='gaff-2.11',\n",
    "    molecules=[ligand],\n",
    "    forcefield_kwargs=forcefield_kwargs)\n",
    "modeller.addSolvent(system_generator.forcefield, model='tip3p', padding=10.0*unit.angstroms)\n",
    "\n",
    "with open('solvated_complex.pdb', 'w') as outfile:\n",
    "    PDBFile.writeFile(modeller.topology, modeller.positions, outfile)"
   ]
  },
  {
   "cell_type": "markdown",
   "metadata": {},
   "source": [
    "## Create system "
   ]
  },
  {
   "cell_type": "code",
   "execution_count": null,
   "metadata": {},
   "outputs": [],
   "source": [
    "system = system_generator.create_system(modeller.topology, molecules=ligand)"
   ]
  },
  {
   "cell_type": "markdown",
   "metadata": {},
   "source": [
    "## Minimize"
   ]
  },
  {
   "cell_type": "code",
   "execution_count": null,
   "metadata": {},
   "outputs": [],
   "source": [
    "def minimize(parm, input_positions, system, platform, out_dir, min_file_name):\n",
    "    \"\"\"An energy minimization function down with an energy tolerance\n",
    "    of 10 kJ/mol.\n",
    "\n",
    "    Parameters\n",
    "    ----------\n",
    "    parm : Parmed or OpenMM parameter file object\n",
    "        Used to create the OpenMM System object.\n",
    "    input_positions : OpenMM Quantity\n",
    "        3D coordinates of the equilibrated system.\n",
    "    system : \n",
    "        \n",
    "    platform : \n",
    "        \n",
    "    out_dir : str\n",
    "        Directory to write the outputs.\n",
    "    min_file_name : str\n",
    "        Name of the minimized PDB file to write.\n",
    "    \"\"\"\n",
    "\n",
    "    # Set up the simulation parameters\n",
    "    # Langevin integrator at 300 K w/ 1 ps^-1 friction coefficient\n",
    "    # and a 2-fs timestep\n",
    "    # NOTE - no dynamics performed, but required for setting up\n",
    "    # the OpenMM system.\n",
    "    integrator = LangevinIntegrator(300*unit.kelvin, 1/unit.picosecond,\n",
    "                                    0.002*unit.picoseconds)\n",
    "    simulation = Simulation(parm.topology, system, integrator, platform)\n",
    "    simulation.context.setPositions(input_positions)\n",
    "\n",
    "    # Minimize the system - no predefined number of steps\n",
    "    simulation.minimizeEnergy()\n",
    "\n",
    "    # Write out the minimized system to use w/ MDAnalysis\n",
    "    positions = simulation.context.getState(getPositions=True).getPositions()\n",
    "    out_file = os.path.join(out_dir,min_file_name)\n",
    "    PDBFile.writeFile(simulation.topology, positions,\n",
    "                      open(out_file, 'w'))\n",
    "\n",
    "    return None"
   ]
  },
  {
   "cell_type": "code",
   "execution_count": null,
   "metadata": {},
   "outputs": [],
   "source": [
    "if not os.path.isdir('Outputs'):\n",
    "    os.mkdir('Outputs')"
   ]
  },
  {
   "cell_type": "code",
   "execution_count": null,
   "metadata": {},
   "outputs": [],
   "source": [
    "minimize(modeller, modeller.positions, system, platform, 'Outputs/', 'minimized.pdb')"
   ]
  },
  {
   "cell_type": "markdown",
   "metadata": {},
   "source": [
    "## Equilibrate"
   ]
  },
  {
   "cell_type": "code",
   "execution_count": null,
   "metadata": {},
   "outputs": [],
   "source": [
    "def equilibrate(min_pdb, parm, system, platform, out_dir, eq_file_name):\n",
    "    \"\"\"A function that does a 500 ps NVT equilibration with position\n",
    "    restraints, with a 5 kcal/mol/A**2 harmonic constant on solute heavy\n",
    "    atoms, using a 2 fs timestep.\n",
    "\n",
    "    Parameters\n",
    "    ----------\n",
    "    min_pdb : str\n",
    "        Name of the minimized PDB file.\n",
    "    parm : Parmed or OpenMM parameter file object\n",
    "        Used to create the OpenMM System object.\n",
    "    system : \n",
    "    \n",
    "    platform :\n",
    "    \n",
    "    out_dir : str\n",
    "        Directory to write the outputs to.\n",
    "    eq_file_name : str\n",
    "        Name of the equilibrated PDB file to write.\n",
    "    \"\"\"\n",
    "    # Get the solute heavy atom indices to use\n",
    "    # for defining position restraints during equilibration\n",
    "    universe = mda.Universe(min_pdb,\n",
    "                            format='XPDB', in_memory=True)\n",
    "    solute_heavy_atom_idx = universe.select_atoms('not resname WAT and\\\n",
    "                                                   not resname SOL and\\\n",
    "                                                   not resname HOH and\\\n",
    "                                                   not resname CL and \\\n",
    "                                                   not resname NA and \\\n",
    "                                                   not name H*').indices\n",
    "    # Necessary conversion to int from numpy.int64,\n",
    "    # b/c it breaks OpenMM C++ function\n",
    "    solute_heavy_atom_idx = [int(idx) for idx in solute_heavy_atom_idx]\n",
    "\n",
    "    # Add the restraints.\n",
    "    # We add a dummy atoms with no mass, which are therefore unaffected by\n",
    "    # any kind of scaling done by barostat (if used). And the atoms are\n",
    "    # harmonically restrained to the dummy atom. We have to redefine the\n",
    "    # system, b/c we're adding new particles and this would clash with\n",
    "    # modeller.topology.\n",
    "    \n",
    "    # Add the harmonic restraints on the positions\n",
    "    # of specified atoms\n",
    "    restraint = HarmonicBondForce()\n",
    "    restraint.setUsesPeriodicBoundaryConditions(True)\n",
    "    system.addForce(restraint)\n",
    "    nonbonded = [force for force in system.getForces()\n",
    "                 if isinstance(force, NonbondedForce)][0]\n",
    "    dummyIndex = []\n",
    "    input_positions = PDBFile(min_pdb).getPositions()\n",
    "    positions = input_positions\n",
    "    # Go through the indices of all atoms that will be restrained\n",
    "    for i in solute_heavy_atom_idx:\n",
    "        j = system.addParticle(0)\n",
    "        # ... and add a dummy/ghost atom next to it\n",
    "        nonbonded.addParticle(0, 1, 0)\n",
    "        # ... that won't interact with the restrained atom \n",
    "        nonbonded.addException(i, j, 0, 1, 0)\n",
    "        # ... but will be have a harmonic restraint ('bond')\n",
    "        # between the two atoms\n",
    "        restraint.addBond(i, j, 0*unit.nanometers,\n",
    "                          5*unit.kilocalories_per_mole/unit.angstrom**2)\n",
    "        dummyIndex.append(j)\n",
    "        input_positions.append(positions[i])\n",
    "\n",
    "    integrator = LangevinIntegrator(300*unit.kelvin, 1/unit.picosecond,\n",
    "                                    0.002*unit.picoseconds)\n",
    "   \n",
    "    sim = Simulation(parm.topology, system, integrator,\n",
    "                     platform)\n",
    "    sim.context.setPositions(input_positions)\n",
    "    integrator.step(250)  # run 500 ps of equilibration\n",
    "    all_positions = sim.context.getState(\n",
    "        getPositions=True, enforcePeriodicBox=True).getPositions()\n",
    "    # we don't want to write the dummy atoms, so we only\n",
    "    # write the positions of atoms up to the first dummy atom index\n",
    "    relevant_positions = all_positions[:dummyIndex[0]]\n",
    "    out_file = os.path.join(out_dir,eq_file_name)\n",
    "    PDBFile.writeFile(sim.topology, relevant_positions,\n",
    "                      open(out_file, 'w'))\n",
    "\n",
    "    return None\n"
   ]
  },
  {
   "cell_type": "code",
   "execution_count": null,
   "metadata": {},
   "outputs": [],
   "source": [
    "equilibrate('Outputs/minimized.pdb', modeller, system, platform, 'Outputs/', 'equilibrated.pdb')"
   ]
  },
  {
   "cell_type": "markdown",
   "metadata": {},
   "source": [
    "## Center"
   ]
  },
  {
   "cell_type": "code",
   "execution_count": null,
   "metadata": {},
   "outputs": [],
   "source": [
    "mdtraj_topology = md.Topology.from_openmm(modeller.topology)\n",
    "mdu = md.load('Outputs/equilibrated.pdb', top=mdtraj_topology)\n",
    "mdu.image_molecules()\n",
    "mdu.save_pdb('Outputs/cent_equilibrated.pdb')"
   ]
  },
  {
   "cell_type": "markdown",
   "metadata": {},
   "source": [
    "## Produce"
   ]
  },
  {
   "cell_type": "code",
   "execution_count": null,
   "metadata": {},
   "outputs": [],
   "source": [
    "def produce(out_dir, idx, lig_resname, eq_pdb, parm, system, mdtraj_top, set_hill_height, platform):\n",
    "    \"\"\"An OpenBPMD production simulation function. Ligand RMSD is biased with\n",
    "    metadynamics. The integrator uses a 4 fs time step and\n",
    "    runs for 10 ns, writing a frame every 100 ps.\n",
    "\n",
    "    Writes a 'trj.dcd', 'COLVAR.npy', 'bias_*.npy' and 'sim_log.csv' files\n",
    "    during the metadynamics simulation in the '{out_dir}/rep_{idx}' directory.\n",
    "    After the simulation is done, it analyses the trajectories and writes a\n",
    "    'bpm_results.csv' file with time-resolved PoseScore and ContactScore.\n",
    "\n",
    "    Parameters\n",
    "    ----------\n",
    "    out_dir : str\n",
    "        Directory where your equilibration PDBs and 'rep_*' dirs are at.\n",
    "    idx : int\n",
    "        Current replica index.\n",
    "    lig_resname : str\n",
    "        Residue name of the ligand.\n",
    "    eq_pdb : str\n",
    "        Name of the PDB for equilibrated system.\n",
    "    parm : Parmed or OpenMM parameter file object\n",
    "        Used to create the OpenMM System object.\n",
    "    parm_file : str\n",
    "        The name of the parameter or topology file of the system.\n",
    "    coords_file : str\n",
    "        The name of the coordinate file of the system.\n",
    "    set_hill_height : float\n",
    "        Metadynamic hill height, in kcal/mol.\n",
    "\n",
    "    \"\"\"\n",
    "    # First, assign the replica directory to which we'll write the files\n",
    "    write_dir = os.path.join(out_dir,f'rep_{idx}')\n",
    "    # Get the anchor atoms by ...\n",
    "    universe = mda.Universe(eq_pdb,\n",
    "                            format='XPDB', in_memory=True)\n",
    "    # ... finding the protein's COM ...\n",
    "    prot_com = universe.select_atoms('protein').center_of_mass()\n",
    "    x, y, z = prot_com[0], prot_com[1], prot_com[2]\n",
    "    # ... and taking the heavy backbone atoms within 5A of the COM\n",
    "    sel_str = f'point {x} {y} {z} 5 and backbone and not name H*'\n",
    "    anchor_atoms = universe.select_atoms(sel_str)\n",
    "    # ... or 10 angstrom\n",
    "    if len(anchor_atoms) == 0:\n",
    "        sel_str = f'point {x} {y} {z} 10 and backbone and not name H*'\n",
    "        anchor_atoms = universe.select_atoms(sel_str)\n",
    "\n",
    "    anchor_atom_idx = anchor_atoms.indices.tolist()\n",
    "    print(anchor_atom_idx)\n",
    "    # Get indices of ligand heavy atoms\n",
    "    lig = universe.select_atoms(f'resname {lig_resname} and not name H*')\n",
    "\n",
    "    lig_ha_idx = lig.indices.tolist()\n",
    "\n",
    "    # get the atom positions for the system from the equilibrated\n",
    "    # system\n",
    "    input_positions = PDBFile(eq_pdb).getPositions()\n",
    "\n",
    "    # Add an 'empty' flat-bottom restraint to fix the issue with PBC.\n",
    "    # Without one, RMSDForce object fails to account for PBC.\n",
    "    k = 0*unit.kilojoules_per_mole  # NOTE - 0 kJ/mol constant\n",
    "    upper_wall = 10.00*unit.nanometer\n",
    "    fb_eq = '(k/2)*max(distance(g1,g2) - upper_wall, 0)^2'\n",
    "    upper_wall_rest = openmm.CustomCentroidBondForce(2, fb_eq)\n",
    "    upper_wall_rest.addGroup(lig_ha_idx)\n",
    "    upper_wall_rest.addGroup(anchor_atom_idx)\n",
    "    upper_wall_rest.addBond([0, 1])\n",
    "    upper_wall_rest.addGlobalParameter('k', k)\n",
    "    upper_wall_rest.addGlobalParameter('upper_wall', upper_wall)\n",
    "    upper_wall_rest.setUsesPeriodicBoundaryConditions(True)\n",
    "    system.addForce(upper_wall_rest)\n",
    "\n",
    "    alignment_indices = lig_ha_idx + anchor_atom_idx\n",
    "\n",
    "    rmsd = openmm.RMSDForce(input_positions, alignment_indices)\n",
    "    # Set up the typical metadynamics parameters\n",
    "    grid_min, grid_max = 0.0, 1.0  # nm\n",
    "    hill_height = set_hill_height*unit.kilocalories_per_mole\n",
    "    hill_width = 0.002  # nm, also known as sigma\n",
    "\n",
    "    grid_width = hill_width / 5\n",
    "    # 'grid' here refers to the number of grid points\n",
    "    grid = int(abs(grid_min - grid_max) / grid_width)\n",
    "\n",
    "    rmsd_cv = BiasVariable(rmsd, grid_min, grid_max, hill_width,\n",
    "                           False, gridWidth=grid)\n",
    "\n",
    "    # define the metadynamics object\n",
    "    # deposit bias every 1 ps, BF = 4, write bias every ns\n",
    "    meta = Metadynamics(system, [rmsd_cv], 300.0*unit.kelvin, 4.0, hill_height,\n",
    "                        250, biasDir=write_dir,\n",
    "                        saveFrequency=250000)\n",
    "\n",
    "    # Set up and run metadynamics\n",
    "    integrator = LangevinIntegrator(300*unit.kelvin, 1.0/unit.picosecond,\n",
    "                                    0.004*unit.picoseconds)\n",
    "\n",
    "    simulation = Simulation(parm.topology, system, integrator, platform)\n",
    "    simulation.context.setPositions(input_positions)\n",
    "\n",
    "    trj_name = os.path.join(write_dir,'trj.dcd')\n",
    "\n",
    "    sim_time = 10  # ns\n",
    "    steps = 250000 * sim_time\n",
    "\n",
    "    simulation.reporters.append(DCDReporter(trj_name, 25000))  # every 100 ps\n",
    "    simulation.reporters.append(StateDataReporter(\n",
    "                                os.path.join(write_dir,'sim_log.csv'), 250000,\n",
    "                                step=True, temperature=True, progress=True,\n",
    "                                remainingTime=True, speed=True,\n",
    "                                totalSteps=steps, separator=','))  # every 1 ns\n",
    "\n",
    "    colvar_array = np.array([meta.getCollectiveVariables(simulation)])\n",
    "    for i in range(0, int(steps), 500):\n",
    "        if i % 25000 == 0:\n",
    "            # log the stored COLVAR every 100ps\n",
    "            np.save(os.path.join(write_dir,'COLVAR.npy'), colvar_array)\n",
    "        meta.step(simulation, 500)\n",
    "        current_cvs = meta.getCollectiveVariables(simulation)\n",
    "        # record the CVs every 2 ps\n",
    "        colvar_array = np.append(colvar_array, [current_cvs], axis=0)\n",
    "    np.save(os.path.join(write_dir,'COLVAR.npy'), colvar_array)\n",
    "\n",
    "    # center everything using MDTraj, to fix any PBC imaging issues\n",
    "    \n",
    "    mdu = md.load(trj_name, top=mdtraj_top)\n",
    "    mdu.image_molecules()\n",
    "    mdu.save(trj_name)\n",
    "\n",
    "    return None"
   ]
  },
  {
   "cell_type": "code",
   "execution_count": null,
   "metadata": {},
   "outputs": [],
   "source": [
    "rep_dir = os.path.join('Outputs','rep_0')\n",
    "if not os.path.isdir(rep_dir):\n",
    "    os.mkdir(rep_dir)"
   ]
  },
  {
   "cell_type": "code",
   "execution_count": null,
   "metadata": {},
   "outputs": [],
   "source": [
    "produce('Outputs/', 0, '03P', 'Outputs/equilibrated.pdb', modeller, system, mdtraj_topology, 0.3, platform)"
   ]
  },
  {
   "cell_type": "code",
   "execution_count": null,
   "metadata": {},
   "outputs": [],
   "source": []
  }
 ],
 "metadata": {
  "kernelspec": {
   "display_name": "Python 3 (ipykernel)",
   "language": "python",
   "name": "python3"
  },
  "language_info": {
   "codemirror_mode": {
    "name": "ipython",
    "version": 3
   },
   "file_extension": ".py",
   "mimetype": "text/x-python",
   "name": "python",
   "nbconvert_exporter": "python",
   "pygments_lexer": "ipython3",
   "version": "3.9.15"
  }
 },
 "nbformat": 4,
 "nbformat_minor": 4
}
